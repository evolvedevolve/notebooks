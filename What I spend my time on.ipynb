{
 "cells": [
  {
   "cell_type": "markdown",
   "metadata": {},
   "source": [
    "## Overview"
   ]
  },
  {
   "cell_type": "markdown",
   "metadata": {},
   "source": [
    "In August of 2021, I created an activity log - noting when I started some task or activity and the amount of time I did it for. In a sentence, to see if my actions align with my goals. The intent was not to describe every detail of my day but rather to see what I __tried__ to do."
   ]
  },
  {
   "cell_type": "code",
   "execution_count": null,
   "metadata": {
    "scrolled": true
   },
   "outputs": [],
   "source": [
    "import numpy\n",
    "import pandas as pd\n",
    "import plotly.express as px # quickly create graphs from dataframes for exploration\n",
    "\n",
    "df = pd.read_csv('Activity-Daily_Log.csv') # create a Pandas Dataframe a csv file\n",
    "df.head(10) # day one and the start of day two (august 24 and 25)"
   ]
  },
  {
   "cell_type": "markdown",
   "metadata": {},
   "source": [
    "\"Perhaps\", I thought to myself, \"if I could see what I did with my days, maybe I'd start using my time more effectively.\""
   ]
  },
  {
   "cell_type": "markdown",
   "metadata": {},
   "source": [
    "Time management is not the problem that aimed I to investigate. I am a mostly functional adult human and high quality tools already exist for this purpose. My issue is with life itself, in a good way, uhm, let me explain: There is a buzzing whirlwind of stimulation around us every day, and meanwhile I have overarching goals related to family, hobbies, and health. I have found these larger areas of life can shrink as other areas grow. This is a natural part of life. Anyway, this dataset is a 30 day sample from my __Daily Activity Log__. "
   ]
  },
  {
   "cell_type": "markdown",
   "metadata": {},
   "source": [
    "## How much TV am I watching?"
   ]
  },
  {
   "cell_type": "markdown",
   "metadata": {},
   "source": [
    "This was was first question I had to answer. After the fourth day of tracking I felt a little guilty entering in the data. I knew that I had watched TV at least one hour each day, so that was where I started."
   ]
  },
  {
   "cell_type": "code",
   "execution_count": null,
   "metadata": {
    "scrolled": true
   },
   "outputs": [],
   "source": [
    "# Locate only the activities that I did for more than an hour at a time more than once\n",
    "dff = df.loc[(df['Duration'] >= 1) & (df['Action'].value_counts().sum() > 1)]\n",
    "\n",
    "df.loc[(df.Event == 'Dance'),'Event']='Hip-Hop'"
   ]
  },
  {
   "cell_type": "markdown",
   "metadata": {},
   "source": [
    "Pandas is a powerful data analyis library, but you can also use it for tiny spreadsheets and philosophical questions. In the previous line, we are using .loc function to filter out all entries where the __Duration__ value is less than or equal to one. Plotly Express allows data visualization to be an iterative and interactive process. In the line below, we are creating a pie chart using the __Action__ and __Duration__ columns from the filtered dataframe."
   ]
  },
  {
   "cell_type": "code",
   "execution_count": null,
   "metadata": {},
   "outputs": [],
   "source": [
    "fig = px.pie(dff, names='Action', values='Duration', title='What I spent my time on')\n",
    "fig.show() # if you are reading this and no graph is below you should watch this video of me explaining it "
   ]
  },
  {
   "cell_type": "markdown",
   "metadata": {},
   "source": [
    "It's clear that I spent a lot of time watching TV. I had a goal to learn more about Python during this time, so let's focus on that now. Let's look at just one __Action__"
   ]
  },
  {
   "cell_type": "code",
   "execution_count": null,
   "metadata": {},
   "outputs": [],
   "source": [
    "# return all sessions where I did Learn Python\n",
    "learn_python_sessions_df = df.groupby(['Action']).get_group('Learn Python')\n",
    "learn_python_sessions_df.head()"
   ]
  },
  {
   "cell_type": "markdown",
   "metadata": {},
   "source": [
    "This was helpful in proving to myself that I was things during the day, but it would be more helpful if I could see __what__ I was doing. Tracking time in this way presents multiple problems: The data entry is arduous, accuracy is low and uncounted for time is a mystery. I learned about these problems as I tracked my activities for 30 days. The thought entering bad data into a study where I am both researcher and subject helped to keep me honest."
   ]
  },
  {
   "cell_type": "code",
   "execution_count": null,
   "metadata": {},
   "outputs": [],
   "source": [
    "# simple bar chart for the grouped dataframe \n",
    "sessions_duration_fig = px.bar(learn_python_sessions_df, x='Date', y='Duration', title='Learn Python Session Durations')\n",
    "sessions_duration_fig.show()"
   ]
  },
  {
   "cell_type": "markdown",
   "metadata": {},
   "source": [
    "Let's ask a few more questions about this specific activity:"
   ]
  },
  {
   "cell_type": "code",
   "execution_count": null,
   "metadata": {},
   "outputs": [],
   "source": [
    "# How many times did I sit down to learn python?\n",
    "number_of_sessions = learn_python_sessions_df['Duration'].count()\n",
    "# How much time did I spend in total?\n",
    "total_time = learn_python_sessions_df['Duration'].sum()\n",
    "# How long did I usually do it for?\n",
    "mean_time = learn_python_sessions_df['Duration'].mean()\n",
    "\n",
    "formated_string = \"\" # use this later\n",
    "print(number_of_sessions, total_time, mean_time)"
   ]
  },
  {
   "cell_type": "markdown",
   "metadata": {},
   "source": [
    "Or, we can ask these same questions of every __Action__ "
   ]
  },
  {
   "cell_type": "code",
   "execution_count": null,
   "metadata": {},
   "outputs": [],
   "source": [
    "#df[[\"Action\", \"Duration\"]].describe()\n",
    "number_sessions_per_action_group = df.groupby(\"Action\").count().sort_values(by=\"Action\", ascending=False)\n",
    "number_sessions_per_action_group\n",
    "\n",
    "#mean_durations = df.groupby(\"Action\").mean().sort_values(by='Duration', ascending=False)\n",
    "#mean_durations.head()\n",
    "#titanic.groupby(\"Sex\").mean()\n"
   ]
  },
  {
   "cell_type": "markdown",
   "metadata": {},
   "source": [
    "   How often did I add a follow up task?"
   ]
  },
  {
   "cell_type": "markdown",
   "metadata": {},
   "source": []
  },
  {
   "cell_type": "markdown",
   "metadata": {},
   "source": []
  },
  {
   "cell_type": "code",
   "execution_count": null,
   "metadata": {
    "scrolled": true
   },
   "outputs": [],
   "source": [
    "df['Action'].value_counts().head(10)"
   ]
  },
  {
   "cell_type": "code",
   "execution_count": null,
   "metadata": {},
   "outputs": [],
   "source": [
    "action_group = df.groupby(['Action'])\n",
    "\n",
    "# MANUALLY GRAB THE TOP TEN THINGS I DO\n",
    "tidy_kitchen = action_group.get_group('Tidy Kitchen')\n",
    "make_food = action_group.get_group('Make Food')\n",
    "learn_python = action_group.get_group('Learn Python')\n",
    "watch_tv = action_group.get_group('Watch TV')\n",
    "philosophy = action_group.get_group('Philosophy')\n",
    "ride_bike = action_group.get_group('Ride bike')\n",
    "work_out = action_group.get_group('Work out')\n",
    "groceries = action_group.get_group('Groceries')\n",
    "reading = action_group.get_group('Reading')\n",
    "walk = action_group.get_group('Walk')\n"
   ]
  },
  {
   "cell_type": "code",
   "execution_count": null,
   "metadata": {},
   "outputs": [],
   "source": [
    "# this seems like probably the least efficient way to grab my data lol\n",
    "tidy_kitchen_total = tidy_kitchen['Duration'].sum()\n",
    "learn_python_total = learn_python['Duration'].sum()\n",
    "make_food_total = make_food['Duration'].sum()\n",
    "watch_tv_total = watch_tv['Duration'].sum()\n",
    "philosophy_total = philosophy['Duration'].sum()\n",
    "ride_bike_total = ride_bike['Duration'].sum()\n",
    "work_out_total = work_out['Duration'].sum()\n",
    "groceries_total = groceries['Duration'].sum()\n",
    "reading_total = reading['Duration'].sum()\n",
    "walk_total = walk['Duration'].sum()\n",
    "\n",
    "all_totals_list = [['Tidy Kitchen', tidy_kitchen_total], ['Learn Python', learn_python_total], ['Make Food', make_food_total], ['Watch TV', watch_tv_total], ['Philosophy', philosophy_total], ['Ride Bike',ride_bike_total] , ['Work Out', work_out_total], ['Groceries', groceries_total], ['Reading', reading_total], ['Walk', walk_total]]\n",
    "\n",
    "all_totals_df = pd.DataFrame (all_totals_list, columns = ['Action','Duration'])"
   ]
  },
  {
   "cell_type": "code",
   "execution_count": null,
   "metadata": {},
   "outputs": [],
   "source": [
    "# the below should do just fine\n",
    "activities = df.Action.unique()\n",
    "activity_means = []\n",
    "activity_groups = df.groupby(['Action'])\n",
    "for activity in activities:\n",
    "     tmp_group = activity_groups.get_group(activity)\n",
    "     group_mean = tmp_group.mean()\n",
    "     activity_means.append(group_mean)\n",
    "     print(activity + \",\" + str(group_mean.mean()))\n",
    "    \n",
    "# although i am missing some understnading of pandas and could probably do this with one line"
   ]
  },
  {
   "cell_type": "code",
   "execution_count": null,
   "metadata": {},
   "outputs": [],
   "source": [
    "all_totals_df.head(12)"
   ]
  },
  {
   "cell_type": "code",
   "execution_count": null,
   "metadata": {
    "scrolled": true
   },
   "outputs": [],
   "source": [
    "fig = px.pie(all_totals_df, names='Action', values='Duration', title='Top Ten Aggregated Activies')\n",
    "fig.show()"
   ]
  },
  {
   "cell_type": "code",
   "execution_count": null,
   "metadata": {},
   "outputs": [],
   "source": [
    "# attempt a smarter way about doing this \n",
    "\n",
    "# start with the top ten activitities by count\n",
    "\n",
    "# use this as an iterative list to get a sum of each activity (instead of doing each one by one)"
   ]
  },
  {
   "cell_type": "code",
   "execution_count": null,
   "metadata": {},
   "outputs": [],
   "source": [
    "# now regenerate our graph "
   ]
  },
  {
   "cell_type": "code",
   "execution_count": null,
   "metadata": {},
   "outputs": [],
   "source": []
  }
 ],
 "metadata": {
  "kernelspec": {
   "display_name": "Python 3",
   "language": "python",
   "name": "python3"
  },
  "language_info": {
   "codemirror_mode": {
    "name": "ipython",
    "version": 3
   },
   "file_extension": ".py",
   "mimetype": "text/x-python",
   "name": "python",
   "nbconvert_exporter": "python",
   "pygments_lexer": "ipython3",
   "version": "3.8.3"
  }
 },
 "nbformat": 4,
 "nbformat_minor": 4
}
